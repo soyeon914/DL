{
  "nbformat": 4,
  "nbformat_minor": 0,
  "metadata": {
    "colab": {
      "provenance": [],
      "mount_file_id": "1cvRks32fRLNU1EjE0YAUjnViKMtnsu1l",
      "authorship_tag": "ABX9TyMLBkY/g5apWSndGEFf5Ik5",
      "include_colab_link": true
    },
    "kernelspec": {
      "name": "python3",
      "display_name": "Python 3"
    },
    "language_info": {
      "name": "python"
    }
  },
  "cells": [
    {
      "cell_type": "markdown",
      "metadata": {
        "id": "view-in-github",
        "colab_type": "text"
      },
      "source": [
        "<a href=\"https://colab.research.google.com/github/thdus5918647/DL/blob/main/Quantization_and_Pruning_on_TFLite.ipynb\" target=\"_parent\"><img src=\"https://colab.research.google.com/assets/colab-badge.svg\" alt=\"Open In Colab\"/></a>"
      ]
    },
    {
      "cell_type": "code",
      "source": [
        "from google.colab import drive\n",
        "drive.mount('/content/drive') "
      ],
      "metadata": {
        "colab": {
          "base_uri": "https://localhost:8080/"
        },
        "id": "G3hEWyeApu5W",
        "outputId": "29f16765-4602-4668-df9d-c0430c64fc65"
      },
      "execution_count": null,
      "outputs": [
        {
          "output_type": "stream",
          "name": "stdout",
          "text": [
            "Drive already mounted at /content/drive; to attempt to forcibly remount, call drive.mount(\"/content/drive\", force_remount=True).\n"
          ]
        }
      ]
    },
    {
      "cell_type": "markdown",
      "source": [
        "# **Tensorflow Lite: Getting Started**\n",
        "\n",
        "First, download and normalize the fashion MNIST dataset"
      ],
      "metadata": {
        "id": "PVlQECVqTQGP"
      }
    },
    {
      "cell_type": "code",
      "execution_count": null,
      "metadata": {
        "colab": {
          "base_uri": "https://localhost:8080/"
        },
        "id": "AMYnwzftSx6L",
        "outputId": "3aabc706-2897-4c01-c134-033574222670"
      },
      "outputs": [
        {
          "output_type": "stream",
          "name": "stdout",
          "text": [
            "2.9.2\n"
          ]
        }
      ],
      "source": [
        "# TensorFlow and tf.keras\n",
        "import tensorflow as tf\n",
        "\n",
        "# Helper libraries\n",
        "import numpy as np\n",
        "import matplotlib.pyplot as plt\n",
        "\n",
        "print(tf.__version__)"
      ]
    },
    {
      "cell_type": "code",
      "source": [
        "# Load MNIST dataset\n",
        "fashion_mnist = tf.keras.datasets.fashion_mnist\n",
        "(train_images, train_labels), (test_images, test_labels) = fashion_mnist.load_data()"
      ],
      "metadata": {
        "id": "Tcln9A3nS5DB"
      },
      "execution_count": null,
      "outputs": []
    },
    {
      "cell_type": "code",
      "source": [
        "# Normalize the input image\n",
        "train_images = train_images.astype(np.float32) / 255.0\n",
        "test_images = test_images.astype(np.float32) / 255.0"
      ],
      "metadata": {
        "id": "BHwLQxVnS9Pf"
      },
      "execution_count": null,
      "outputs": []
    },
    {
      "cell_type": "code",
      "source": [
        "model = tf.keras.Sequential([\n",
        "    tf.keras.layers.InputLayer(input_shape=(28,28)),\n",
        "    tf.keras.layers.Reshape(target_shape=(28,28,1)),\n",
        "    tf.keras.layers.Conv2D(filters=16, kernel_size=3, padding='same', activation='relu'),\n",
        "    tf.keras.layers.MaxPool2D(pool_size=(2,2), strides=(2,2)),\n",
        "    tf.keras.layers.Conv2D(filters=32, kernel_size=3, padding='same', activation='relu'),\n",
        "    tf.keras.layers.MaxPool2D(pool_size=(2,2), strides=(2,2)),\n",
        "    tf.keras.layers.Flatten(),\n",
        "    tf.keras.layers.Dense(10, activation='softmax')\n",
        "])\n",
        "# Compile and Train\n",
        "model.compile(optimizer='adam',\n",
        "              loss=tf.keras.losses.SparseCategoricalCrossentropy(from_logits=False),\n",
        "              metrics=['accuracy'])\n",
        "\n",
        "model.fit(\n",
        "    train_images,\n",
        "    train_labels,\n",
        "    epochs=10,\n",
        "    validation_data=(test_images, test_labels)\n",
        ")\n",
        "\n",
        "metrics = model.evaluate(test_images, test_labels)"
      ],
      "metadata": {
        "colab": {
          "base_uri": "https://localhost:8080/"
        },
        "id": "t4Qh6R61Tgma",
        "outputId": "d4bf05ad-c240-4186-cf84-b7e639310623"
      },
      "execution_count": null,
      "outputs": [
        {
          "output_type": "stream",
          "name": "stdout",
          "text": [
            "Epoch 1/10\n",
            "1875/1875 [==============================] - 60s 31ms/step - loss: 0.4755 - accuracy: 0.8315 - val_loss: 0.3631 - val_accuracy: 0.8728\n",
            "Epoch 2/10\n",
            "1875/1875 [==============================] - 49s 26ms/step - loss: 0.3204 - accuracy: 0.8876 - val_loss: 0.3192 - val_accuracy: 0.8837\n",
            "Epoch 3/10\n",
            "1875/1875 [==============================] - 53s 28ms/step - loss: 0.2808 - accuracy: 0.9005 - val_loss: 0.3090 - val_accuracy: 0.8913\n",
            "Epoch 4/10\n",
            "1875/1875 [==============================] - 52s 28ms/step - loss: 0.2550 - accuracy: 0.9086 - val_loss: 0.2840 - val_accuracy: 0.9028\n",
            "Epoch 5/10\n",
            "1875/1875 [==============================] - 48s 25ms/step - loss: 0.2358 - accuracy: 0.9153 - val_loss: 0.2686 - val_accuracy: 0.9052\n",
            "Epoch 6/10\n",
            "1875/1875 [==============================] - 47s 25ms/step - loss: 0.2197 - accuracy: 0.9213 - val_loss: 0.2581 - val_accuracy: 0.9098\n",
            "Epoch 7/10\n",
            "1875/1875 [==============================] - 47s 25ms/step - loss: 0.2084 - accuracy: 0.9253 - val_loss: 0.2618 - val_accuracy: 0.9117\n",
            "Epoch 8/10\n",
            "1875/1875 [==============================] - 50s 27ms/step - loss: 0.1978 - accuracy: 0.9296 - val_loss: 0.2521 - val_accuracy: 0.9119\n",
            "Epoch 9/10\n",
            "1875/1875 [==============================] - 47s 25ms/step - loss: 0.1893 - accuracy: 0.9311 - val_loss: 0.2688 - val_accuracy: 0.9077\n",
            "Epoch 10/10\n",
            "1875/1875 [==============================] - 47s 25ms/step - loss: 0.1805 - accuracy: 0.9348 - val_loss: 0.2561 - val_accuracy: 0.9125\n",
            "313/313 [==============================] - 3s 10ms/step - loss: 0.2561 - accuracy: 0.9125\n"
          ]
        }
      ]
    },
    {
      "cell_type": "code",
      "source": [
        "print(f\"Model test loss: {metrics[0]:.03f} | test accuracy: {metrics[1]*100:.02f}%\")"
      ],
      "metadata": {
        "colab": {
          "base_uri": "https://localhost:8080/"
        },
        "id": "ehboFUzdU-Bp",
        "outputId": "dcbf1502-f3a9-4d45-ddbd-01603f9bd316"
      },
      "execution_count": null,
      "outputs": [
        {
          "output_type": "stream",
          "name": "stdout",
          "text": [
            "Model test loss: 0.256 | test accuracy: 91.25%\n"
          ]
        }
      ]
    },
    {
      "cell_type": "markdown",
      "source": [
        "학습된 모델을 변환하기 위해서는 TensorFlow Lite converter라는 것을 이용해야 합니다. 이것은 TensorFlow 모델을 TensorFlow Lite 모델로 바꿔 줍니다."
      ],
      "metadata": {
        "id": "Ug_nSLZieBKt"
      }
    },
    {
      "cell_type": "markdown",
      "source": [
        "다음과 같이 tflite 모델로 변환할 수 있습니다."
      ],
      "metadata": {
        "id": "V74YkKCseJe3"
      }
    },
    {
      "cell_type": "markdown",
      "source": [
        "To convert the model to TFLite, initialize a ***converter***"
      ],
      "metadata": {
        "id": "IgJFbk14lcSK"
      }
    },
    {
      "cell_type": "code",
      "source": [
        "# Converting a tf.Keras model to a TensorFlow Lite model.\n",
        "converter = tf.lite.TFLiteConverter.from_keras_model(model)\n",
        "tflite_model = converter.convert()"
      ],
      "metadata": {
        "colab": {
          "base_uri": "https://localhost:8080/"
        },
        "id": "e2ygK7GveMn0",
        "outputId": "c0292023-db36-47b0-8176-231dd27d70f8"
      },
      "execution_count": null,
      "outputs": [
        {
          "output_type": "stream",
          "name": "stderr",
          "text": [
            "WARNING:absl:Found untraced functions such as _jit_compiled_convolution_op, _jit_compiled_convolution_op while saving (showing 2 of 2). These functions will not be directly callable after loading.\n"
          ]
        }
      ]
    },
    {
      "cell_type": "markdown",
      "source": [
        "변화할 때 아무런 옵션을 주지 않았으므로 이 모델은 단순히 32-bit float tflite 모델입니다."
      ],
      "metadata": {
        "id": "4KLyPr_ClpF8"
      }
    },
    {
      "cell_type": "markdown",
      "source": [
        "We can now save the tflite model and deploy it on mobile!"
      ],
      "metadata": {
        "id": "qWU2f9SmlhpW"
      }
    },
    {
      "cell_type": "code",
      "source": [
        "with open('model.tflite', 'wb') as f:\n",
        "  f.write(tflite_model)"
      ],
      "metadata": {
        "id": "_mv-Gt9alMNz"
      },
      "execution_count": null,
      "outputs": []
    },
    {
      "cell_type": "markdown",
      "source": [
        "Next, we have several options available to optimize the model\n",
        "- Typically, we use ***Tensorflow Model Optimization Toolkit***\n",
        "\n",
        "Two methods:\n",
        "- Quantization\n",
        "  - Post-Training Quantization(PTQ)\n",
        "  - Quantization-Aware Training(QAT)\n",
        "- Pruning <br/>\n",
        "\n",
        "다음 셀을 실행하면 quantization이 완료된다. "
      ],
      "metadata": {
        "id": "Fa3BviH4mOvr"
      }
    },
    {
      "cell_type": "code",
      "source": [
        "def representative_data_gen():\n",
        "  for input_value in tf.data.Dataset.from_tensor_slices(train_images).batch(1).take(100):\n",
        "    yield [input_value]\n",
        "\n",
        "converter = tf.lite.TFLiteConverter.from_keras_model(model)\n",
        "\n",
        "converter.optimizations = [tf.lite.Optimize.DEFAULT]\n",
        "converter.representative_dataset = representative_data_gen\n",
        "# Ensure that if any ops can't be quantized, the converter throws an error\n",
        "converter.target_spec.supported_ops = [tf.lite.OpsSet.TFLITE_BUILTINS_INT8]\n",
        "# Set the input and output tensors to uint8 (APIs added in r2.3)\n",
        "converter.inference_input_type = tf.uint8 # or tf.int8\n",
        "converter.inference_output_type = tf.uint8 # or tf.int8\n",
        "\n",
        "post_quant_tflite_model = converter.convert()\n"
      ],
      "metadata": {
        "colab": {
          "base_uri": "https://localhost:8080/"
        },
        "id": "KCLV1rOFlRAJ",
        "outputId": "6c535a0d-73a9-43be-bd31-32772faa98d5"
      },
      "execution_count": null,
      "outputs": [
        {
          "output_type": "stream",
          "name": "stderr",
          "text": [
            "WARNING:absl:Found untraced functions such as _jit_compiled_convolution_op, _jit_compiled_convolution_op while saving (showing 2 of 2). These functions will not be directly callable after loading.\n",
            "/usr/local/lib/python3.8/dist-packages/tensorflow/lite/python/convert.py:766: UserWarning: Statistics for quantized inputs were expected, but not specified; continuing anyway.\n",
            "  warnings.warn(\"Statistics for quantized inputs were expected, but not \"\n"
          ]
        }
      ]
    },
    {
      "cell_type": "markdown",
      "source": [
        "evaluate을 위한 helper function이다. input typer을 integer로 했으므로, quantize를 한 다음에 inference를 한다."
      ],
      "metadata": {
        "id": "PcLnuUzDuter"
      }
    },
    {
      "cell_type": "code",
      "source": [
        "from tqdm import tqdm\n",
        "\n",
        "def evaluate_model(interpreter):\n",
        "  global test_images\n",
        "\n",
        "  input_details = interpreter.get_input_details()[0]\n",
        "  input_index = input_details[\"index\"]\n",
        "  output_index = interpreter.get_output_details()[0][\"index\"]\n",
        "\n",
        "  # Run predictions on every image in the \"test\" datset.\n",
        "  prediction_digits = []\n",
        "  for test_image in tqdm(test_images):\n",
        "    # quantize input\n",
        "    if input_details['dtype'] == np.uint8:\n",
        "      input_scale, input_zero_point = input_details[\"quantization\"]\n",
        "      test_image = test_image / input_scale + input_zero_point\n",
        "\n",
        "    # pre-processing: add batch dimension\n",
        "    test_image = np.expand_dims(test_image, axis=0).astype(input_details[\"dtype\"])\n",
        "    interpreter.set_tensor(input_index, test_image)\n",
        "\n",
        "    # Run inference.\n",
        "    interpreter.invoke()\n",
        "\n",
        "    # Post-processing: remove batch dimension and find the digit with highest\n",
        "    # probability.\n",
        "    output = interpreter.tensor(output_index)\n",
        "    digit = np.argmax(output()[0])\n",
        "    prediction_digits.append(digit)\n",
        "\n",
        "  print()\n",
        "  # Compare prediction results with ground truth labels to calculate accuracy.\n",
        "  prediction_digits = np.array(prediction_digits)\n",
        "  accuracy = (prediction_digits == test_labels).mean()\n",
        "  return accuracy, output"
      ],
      "metadata": {
        "id": "Jbnp-fD_us7c"
      },
      "execution_count": null,
      "outputs": []
    },
    {
      "cell_type": "markdown",
      "source": [
        "tflite 모델로 inference를 하려면 **`Interpreter`**를 이용한다. **`model_content`** 대신에 **`model_path`**를 이용하면 tflite 파일을 불러올 수도 있다.\n",
        "<br/>\n",
        "inference를 하기 위해서는 <br/>\n",
        "interpreter 생성 -> **`allocate_tensor`** -> **`set_tensor`** -> **`invoke`** 순으로 실핸한다. <br/>\n",
        "지금 코드는 inference할 때 image를 하나씩 처리하는데, batch 단위로 처리하려면 r**`esize_tensor_input`**을 이용한다."
      ],
      "metadata": {
        "id": "JUrf_89UwK4M"
      }
    },
    {
      "cell_type": "code",
      "source": [
        "# 32bit float tflite 모델로 interpreter 만듦\n",
        "interpreter = tf.lite.Interpreter(model_content=tflite_model)\n",
        "\n",
        "# inference할 때 input batch 수를 설정하는 법\n",
        "# input_details = interpreter.get_input_details()[0]\n",
        "# interpreter.resize_tensor_input(input_details[\"index\"], [10, 28, 28] )\n",
        "\n",
        "interpreter.allocate_tensors()\n",
        "tflite_test_accuracy, _ = evaluate_model(interpreter)\n",
        "\n",
        "# 8bit integer tflite\n",
        "post_quant_interpreter = tf.lite.Interpreter(model_content=post_quant_tflite_model)\n",
        "post_quant_interpreter.allocate_tensors()\n",
        "post_quant_tflite_test_accuracy, output = evaluate_model(post_quant_interpreter)"
      ],
      "metadata": {
        "colab": {
          "base_uri": "https://localhost:8080/"
        },
        "id": "CcmPvIIEwKIp",
        "outputId": "d97a5704-62f9-4212-f953-e7c03241cd71"
      },
      "execution_count": null,
      "outputs": [
        {
          "output_type": "stream",
          "name": "stderr",
          "text": [
            "100%|██████████| 10000/10000 [00:04<00:00, 2449.97it/s]\n"
          ]
        },
        {
          "output_type": "stream",
          "name": "stdout",
          "text": [
            "\n"
          ]
        },
        {
          "output_type": "stream",
          "name": "stderr",
          "text": [
            "100%|██████████| 10000/10000 [00:01<00:00, 5332.14it/s]"
          ]
        },
        {
          "output_type": "stream",
          "name": "stdout",
          "text": [
            "\n"
          ]
        },
        {
          "output_type": "stream",
          "name": "stderr",
          "text": [
            "\n"
          ]
        }
      ]
    },
    {
      "cell_type": "markdown",
      "source": [
        "**`get_input_details`**, **`get_output_details`**를 통해 input과 output의 type 및 quantization 정보를 알 수 있다."
      ],
      "metadata": {
        "id": "Hh2-1ewexwBn"
      }
    },
    {
      "cell_type": "code",
      "source": [
        "post_quant_interpreter.get_input_details()"
      ],
      "metadata": {
        "colab": {
          "base_uri": "https://localhost:8080/"
        },
        "id": "cEFPNLkDx9f7",
        "outputId": "c972fae1-2954-43c7-8b25-57a740fcb7e5"
      },
      "execution_count": null,
      "outputs": [
        {
          "output_type": "execute_result",
          "data": {
            "text/plain": [
              "[{'name': 'serving_default_input_1:0',\n",
              "  'index': 0,\n",
              "  'shape': array([ 1, 28, 28], dtype=int32),\n",
              "  'shape_signature': array([-1, 28, 28], dtype=int32),\n",
              "  'dtype': numpy.uint8,\n",
              "  'quantization': (0.003921568859368563, 0),\n",
              "  'quantization_parameters': {'scales': array([0.00392157], dtype=float32),\n",
              "   'zero_points': array([0], dtype=int32),\n",
              "   'quantized_dimension': 0},\n",
              "  'sparsity_parameters': {}}]"
            ]
          },
          "metadata": {},
          "execution_count": 13
        }
      ]
    },
    {
      "cell_type": "code",
      "source": [
        "post_quant_interpreter.get_output_details()"
      ],
      "metadata": {
        "colab": {
          "base_uri": "https://localhost:8080/"
        },
        "id": "e2lz5FjCyEGP",
        "outputId": "1e3e5c1f-8981-4b6e-da9e-014788556ee6"
      },
      "execution_count": null,
      "outputs": [
        {
          "output_type": "execute_result",
          "data": {
            "text/plain": [
              "[{'name': 'StatefulPartitionedCall:0',\n",
              "  'index': 24,\n",
              "  'shape': array([ 1, 10], dtype=int32),\n",
              "  'shape_signature': array([-1, 10], dtype=int32),\n",
              "  'dtype': numpy.uint8,\n",
              "  'quantization': (0.00390625, 0),\n",
              "  'quantization_parameters': {'scales': array([0.00390625], dtype=float32),\n",
              "   'zero_points': array([0], dtype=int32),\n",
              "   'quantized_dimension': 0},\n",
              "  'sparsity_parameters': {}}]"
            ]
          },
          "metadata": {},
          "execution_count": 14
        }
      ]
    },
    {
      "cell_type": "markdown",
      "source": [
        "실제로 inference output이 정수임을 확인할 수 있다."
      ],
      "metadata": {
        "id": "IasI2WKWyP4r"
      }
    },
    {
      "cell_type": "code",
      "source": [
        "print(output())"
      ],
      "metadata": {
        "colab": {
          "base_uri": "https://localhost:8080/"
        },
        "id": "QTOtM_aMyG5o",
        "outputId": "bd8f43bc-c07e-4f34-f010-673a60175b80"
      },
      "execution_count": null,
      "outputs": [
        {
          "output_type": "stream",
          "name": "stdout",
          "text": [
            "[[  0   0   0   0   0 192   0  56   8   0]]\n"
          ]
        }
      ]
    },
    {
      "cell_type": "markdown",
      "source": [
        "float 32 모델과 accuracy를 비교해 보자."
      ],
      "metadata": {
        "id": "ey0V-PdJyUiD"
      }
    },
    {
      "cell_type": "code",
      "source": [
        "print('TFLite test accuracy: ', tflite_test_accuracy)\n",
        "print('Post-training Quant TFLite test_accuracy: ', post_quant_tflite_test_accuracy) # 비슷하거나 조금 떨어지는 것이 정상임"
      ],
      "metadata": {
        "colab": {
          "base_uri": "https://localhost:8080/"
        },
        "id": "T_EXlfh9yL7G",
        "outputId": "fbe53d94-b7ea-43c3-80f4-0db990e50aa1"
      },
      "execution_count": null,
      "outputs": [
        {
          "output_type": "stream",
          "name": "stdout",
          "text": [
            "TFLite test accuracy:  0.9125\n",
            "Post-training Quant TFLite test_accuracy:  0.9124\n"
          ]
        }
      ]
    },
    {
      "cell_type": "markdown",
      "source": [
        "모델을 파일로 저장해서 실제로 모델 크기가 줄어들었는지 확인해 보자."
      ],
      "metadata": {
        "id": "BFmmweWWykY2"
      }
    },
    {
      "cell_type": "code",
      "source": [
        "import tempfile\n",
        "import os\n",
        "\n",
        "# create temp file\n",
        "_, tflite_file = tempfile.mkstemp('.tflite')\n",
        "_, post_quant_tflite_file = tempfile.mkstemp('.tflite')\n",
        "\n",
        "# tflite model 저장\n",
        "with open(tflite_file, 'wb') as f:\n",
        "  f.write(tflite_model)\n",
        "\n",
        "with open(post_quant_tflite_file, 'wb') as f:\n",
        "  f.write(post_quant_tflite_model)\n",
        "\n",
        "tflite_size = os.path.getsize(tflite_file) / float(2**20)\n",
        "quantized_size = os.path.getsize(post_quant_tflite_file) / float(2**20)\n",
        "\n",
        "print(f\"Float model: {tflite_size:.03f} MB\")\n",
        "print(f\"Quantized model: {quantized_size:.03f} MB\")\n",
        "print(f\"Quantized model: {quantized_size/tflite_size:.02f} x Float model size\",)"
      ],
      "metadata": {
        "colab": {
          "base_uri": "https://localhost:8080/"
        },
        "id": "wggP_zSuym_V",
        "outputId": "51f50e5d-4137-4aee-b29b-8bbcb253f2b9"
      },
      "execution_count": null,
      "outputs": [
        {
          "output_type": "stream",
          "name": "stdout",
          "text": [
            "Float model: 0.082 MB\n",
            "Quantized model: 0.025 MB\n",
            "Quantized model: 0.31 x Float model size\n"
          ]
        }
      ]
    },
    {
      "cell_type": "markdown",
      "source": [
        "### **실습: TensorFlow에서 제공하는 pretrain model 가져와서 post-training quantization 해보기**\n",
        "\n",
        "TensorFlow에서는 여러 pretrained model을 제공한다. 아무거나 하나 가져와서 post-training quantization을 해보자."
      ],
      "metadata": {
        "id": "pX91LyXC0IrR"
      }
    },
    {
      "cell_type": "code",
      "source": [
        "# pretrain 모델 import 하기.\n",
        "from tensorflow.keras.applications.resnet50 import ResNet50, preprocess_input, decode_predictions\n",
        "from tensorflow.keras.preprocessing import image\n",
        "from PIL import Image\n",
        "from IPython.display import display"
      ],
      "metadata": {
        "id": "S4NKVAsy0V8O"
      },
      "execution_count": null,
      "outputs": []
    },
    {
      "cell_type": "code",
      "source": [
        "url = \"https://cdn.education.com/files/526001_527000/526114/file_526114.jpg\"\n",
        "os.system(\"curl \" + url + \" > balloon.jpg\")\n",
        "img_path = 'balloon.jpg'\n",
        "img = image.load_img(img_path, target_size=(224, 224))\n",
        "display(img)\n",
        "x = image.img_to_array(img)\n",
        "x = np.expand_dims(x, axis=0)\n",
        "x = preprocess_input(x) # 각 모델을 학습할 때 preprocess했던 방법 사용"
      ],
      "metadata": {
        "colab": {
          "base_uri": "https://localhost:8080/",
          "height": 241
        },
        "id": "DplqQb3o0tJS",
        "outputId": "4472bfb6-20bd-4ab0-9028-9b4d6243633a"
      },
      "execution_count": null,
      "outputs": [
        {
          "output_type": "display_data",
          "data": {
            "text/plain": [
              "<PIL.Image.Image image mode=RGB size=224x224 at 0x7FD1711F3C40>"
            ],
            "image/png": "[encoded data removed]"
          },
          "metadata": {}
        }
      ]
    },
    {
      "cell_type": "markdown",
      "source": [
        "evaluate 할 때는 다음 함수를 이용"
      ],
      "metadata": {
        "id": "-UCUni8N1vQp"
      }
    },
    {
      "cell_type": "code",
      "source": [
        "def evaluate_model_practice(interpreter, test_images):\n",
        "  input_details = interpreter.get_input_details()[0]\n",
        "  input_index = input_details[\"index\"]\n",
        "  output_index = interpreter.get_output_details()[0][\"index\"]\n",
        "\n",
        "  # Run predictions on every image in the \"test\" dataset.\n",
        "  prediction_digits = []\n",
        "  for test_image in tqdm(test_images):\n",
        "    # quantize input\n",
        "    if input_details['dtype'] == np.uint8:\n",
        "      input_scale, input_zero_point = input_details[\"quantization\"]\n",
        "      test_image = test_image / input_scale + input_zero_point\n",
        "    \n",
        "    # Pre-processing: add batch dimension\n",
        "    test_image = np.expand_dims(test_image, axis=0).astype(input_details[\"dtype\"])\n",
        "    interpreter.set_tensor(input_index, test_image)\n",
        "\n",
        "    # Run inference.\n",
        "    interpreter.invoke()\n",
        "\n",
        "    preds = interpreter.tensor(output_index)\n",
        "    preds = np.expand_dims(preds()[0], axis=0)\n",
        "\n",
        "  return preds"
      ],
      "metadata": {
        "id": "td6k1Ocu1ZqH"
      },
      "execution_count": null,
      "outputs": []
    },
    {
      "cell_type": "code",
      "source": [
        "# 1. import한 pretrain 모델 가져오기\n",
        "imagenet = ResNet50(weights='imagenet')\n",
        "\n",
        "preds = imagenet.predict(x)\n",
        "# decode the results into a list of tuples (class, description, probability)\n",
        "print('Predicted: ', decode_predictions(preds, top=3)[0])"
      ],
      "metadata": {
        "colab": {
          "base_uri": "https://localhost:8080/"
        },
        "id": "fCBI1Ron-uRa",
        "outputId": "d3693c08-5de7-405a-eac1-7aba11ae91ad"
      },
      "execution_count": null,
      "outputs": [
        {
          "output_type": "stream",
          "name": "stdout",
          "text": [
            "1/1 [==============================] - 2s 2s/step\n",
            "Predicted:  [('n02782093', 'balloon', 0.9505768), ('n04023962', 'punching_bag', 0.03517213), ('n03544143', 'hourglass', 0.0015566874)]\n"
          ]
        }
      ]
    },
    {
      "cell_type": "markdown",
      "source": [
        "크기 비교를 위한 32bit float tflite 모델"
      ],
      "metadata": {
        "id": "lbROZWcG_GQT"
      }
    },
    {
      "cell_type": "code",
      "source": [
        "converter = tf.lite.TFLiteConverter.from_keras_model(imagenet) # resnet50 tflite 변환 = 32bit float 형식\n",
        "imagenet_tflite = converter.convert()"
      ],
      "metadata": {
        "colab": {
          "base_uri": "https://localhost:8080/"
        },
        "id": "AtfODFDs_CPG",
        "outputId": "d0494f10-ab68-49c7-f345-c905db9104c7"
      },
      "execution_count": null,
      "outputs": [
        {
          "output_type": "stream",
          "name": "stderr",
          "text": [
            "WARNING:absl:Found untraced functions such as _jit_compiled_convolution_op, _jit_compiled_convolution_op, _jit_compiled_convolution_op, _jit_compiled_convolution_op, _jit_compiled_convolution_op while saving (showing 5 of 53). These functions will not be directly callable after loading.\n"
          ]
        }
      ]
    },
    {
      "cell_type": "code",
      "source": [
        "# 2. full integer post-training quantization\n",
        "import numpy as np\n",
        "def representative_data_gen():\n",
        "  yield [x] # test할 이미지 1개만 사용\n",
        "\n",
        "converter = tf.lite.TFLiteConverter.from_keras_model(imagenet)\n",
        "\n",
        "converter.optimizations = [tf.lite.Optimize.DEFAULT]\n",
        "converter.representative_dataset = representative_data_gen\n",
        "# Ensure that if any ops can't be quantized, the converter throws an error\n",
        "converter.target_spec.supported_ops = [tf.lite.OpsSet.TFLITE_BUILTINS_INT8]\n",
        "# Set the input and output tensors to uint8 (APIs added in r2.3)\n",
        "converter.inference_input_type = tf.uint8\n",
        "converter.inference_output_type = tf.uint8\n",
        "\n",
        "post_quant_imagenet_tflite = converter.convert()"
      ],
      "metadata": {
        "colab": {
          "base_uri": "https://localhost:8080/"
        },
        "id": "tkq8j88B_Qog",
        "outputId": "c5050a1a-33e1-4963-eb77-bab2ae8bdbf1"
      },
      "execution_count": null,
      "outputs": [
        {
          "output_type": "stream",
          "name": "stderr",
          "text": [
            "WARNING:absl:Found untraced functions such as _jit_compiled_convolution_op, _jit_compiled_convolution_op, _jit_compiled_convolution_op, _jit_compiled_convolution_op, _jit_compiled_convolution_op while saving (showing 5 of 53). These functions will not be directly callable after loading.\n",
            "/usr/local/lib/python3.8/dist-packages/tensorflow/lite/python/convert.py:766: UserWarning: Statistics for quantized inputs were expected, but not specified; continuing anyway.\n",
            "  warnings.warn(\"Statistics for quantized inputs were expected, but not \"\n"
          ]
        }
      ]
    },
    {
      "cell_type": "code",
      "source": [
        "# 3. make interpreter and do inference\n",
        "# tflite 모델로 interpreter 만듦\n",
        "post_quant_imagenet_interpreter = tf.lite.Interpreter(model_content=post_quant_imagenet_tflite)\n",
        "\n",
        "post_quant_imagenet_interpreter.allocate_tensors()\n",
        "\n",
        "preds = evaluate_model_practice(post_quant_imagenet_interpreter, x)\n",
        "print('\\nPredicted: ', decode_predictions(preds, top=3)[0])"
      ],
      "metadata": {
        "colab": {
          "base_uri": "https://localhost:8080/"
        },
        "id": "ZzzHTkZHAFiB",
        "outputId": "a09e6f06-6a85-42f2-c3a8-25eb424cbeea"
      },
      "execution_count": null,
      "outputs": [
        {
          "output_type": "stream",
          "name": "stderr",
          "text": [
            "100%|██████████| 1/1 [00:00<00:00,  2.82it/s]"
          ]
        },
        {
          "output_type": "stream",
          "name": "stdout",
          "text": [
            "\n",
            "Predicted:  [('n02782093', 'balloon', 245), ('n04023962', 'punching_bag', 7), ('n03942813', 'ping-pong_ball', 1)]\n"
          ]
        },
        {
          "output_type": "stream",
          "name": "stderr",
          "text": [
            "\n"
          ]
        }
      ]
    },
    {
      "cell_type": "code",
      "source": [
        "# Measure sizes of models.\n",
        "_, imagenet_tflite_file = tempfile.mkstemp('.tflite')\n",
        "_, post_quant_imagenet_tflite_file = tempfile.mkstemp('.tflite')\n",
        "\n",
        "with open(tflite_file, 'wb') as f:\n",
        "  f.write(imagenet_tflite)\n",
        "\n",
        "with open(post_quant_tflite_file, 'wb') as f:\n",
        "  f.write(post_quant_imagenet_tflite)\n",
        "\n",
        "tflite_qat_size = os.path.getsize(tflite_file) / float(2**20)\n",
        "quantized_size = os.path.getsize(post_quant_tflite_file) / float(2**20)\n",
        "\n",
        "print(f\"Float model: {tflite_qat_size:.03f} MB\")\n",
        "print(f\"Quantized model: {quantized_size:.03f} MB\")\n",
        "print(f\"Quantized model: {quantized_size/tflite_qat_size:.02f} x Float model size\",)"
      ],
      "metadata": {
        "colab": {
          "base_uri": "https://localhost:8080/"
        },
        "id": "OTP4LY8TA6gg",
        "outputId": "72f1f884-fdff-4513-cd41-570b972a77b9"
      },
      "execution_count": null,
      "outputs": [
        {
          "output_type": "stream",
          "name": "stdout",
          "text": [
            "Float model: 97.430 MB\n",
            "Quantized model: 25.079 MB\n",
            "Quantized model: 0.26 x Float model size\n"
          ]
        }
      ]
    },
    {
      "cell_type": "markdown",
      "source": [
        "## **Quantization Aware Training(QAT)** <br/>\n",
        "QAT는 나중에 quantization을 할 것이라는 것을 가정하고 학습하는 것이다. <br/>\n",
        "scratch부터 학습해도 되지만, 이미 학습된 모델을 fine tuning하는 것이 좋다고 한다. "
      ],
      "metadata": {
        "id": "LuJlR6MwCirO"
      }
    },
    {
      "cell_type": "code",
      "source": [
        "!pip install -q tensorflow-model-optimization"
      ],
      "metadata": {
        "id": "f6f8CTEkBo0x"
      },
      "execution_count": null,
      "outputs": []
    },
    {
      "cell_type": "code",
      "source": [
        "import tensorflow_model_optimization as tfmot"
      ],
      "metadata": {
        "id": "1fWrRnd1C-GV"
      },
      "execution_count": null,
      "outputs": []
    },
    {
      "cell_type": "markdown",
      "source": [
        "### **Quantize whole model**<br/>\n",
        "Edge TPU와 같이 fully quantized 모델이 필요한 경우에는 전체 모델에 대해 QAT를 한다.<br/>\n",
        "위에서 학습한 float32모델로 QAT를 해볼 것이다.<br/>\n",
        "`quantize_model` 함수를 이용한다."
      ],
      "metadata": {
        "id": "DbhsUSYqDCT_"
      }
    },
    {
      "cell_type": "code",
      "source": [
        "quant_aware_model = tfmot.quantization.keras.quantize_model(model)\n",
        "\n",
        "# 'quantize_model' requires a recompile.\n",
        "quant_aware_model.compile(optimizer='adam',\n",
        "                          loss=tf.keras.losses.SparseCategoricalCrossentropy(from_logits=False),\n",
        "                          metrics=['accuracy'])\n",
        "\n",
        "quant_aware_model.summary() # 모든 layer가 quantize로 변하는 것을 확인할 수 있음"
      ],
      "metadata": {
        "colab": {
          "base_uri": "https://localhost:8080/"
        },
        "id": "ueyBUxh1DBZh",
        "outputId": "70d9c965-fab2-4e90-c975-5c61dfee3a1a"
      },
      "execution_count": null,
      "outputs": [
        {
          "output_type": "stream",
          "name": "stdout",
          "text": [
            "Model: \"sequential\"\n",
            "_________________________________________________________________\n",
            " Layer (type)                Output Shape              Param #   \n",
            "=================================================================\n",
            " quantize_layer (QuantizeLay  (None, 28, 28)           3         \n",
            " er)                                                             \n",
            "                                                                 \n",
            " quant_reshape (QuantizeWrap  (None, 28, 28, 1)        1         \n",
            " perV2)                                                          \n",
            "                                                                 \n",
            " quant_conv2d (QuantizeWrapp  (None, 28, 28, 16)       195       \n",
            " erV2)                                                           \n",
            "                                                                 \n",
            " quant_max_pooling2d (Quanti  (None, 14, 14, 16)       1         \n",
            " zeWrapperV2)                                                    \n",
            "                                                                 \n",
            " quant_conv2d_1 (QuantizeWra  (None, 14, 14, 32)       4707      \n",
            " pperV2)                                                         \n",
            "                                                                 \n",
            " quant_max_pooling2d_1 (Quan  (None, 7, 7, 32)         1         \n",
            " tizeWrapperV2)                                                  \n",
            "                                                                 \n",
            " quant_flatten (QuantizeWrap  (None, 1568)             1         \n",
            " perV2)                                                          \n",
            "                                                                 \n",
            " quant_dense (QuantizeWrappe  (None, 10)               15695     \n",
            " rV2)                                                            \n",
            "                                                                 \n",
            "=================================================================\n",
            "Total params: 20,604\n",
            "Trainable params: 20,490\n",
            "Non-trainable params: 114\n",
            "_________________________________________________________________\n"
          ]
        }
      ]
    },
    {
      "cell_type": "markdown",
      "source": [
        "layer에 quant가 붙은 것을 확인할 수 있다. </br>\n",
        "그 다음으로는, data의 일부를 이용해서 fine tuning한다."
      ],
      "metadata": {
        "id": "ha8CnuzZF6hT"
      }
    },
    {
      "cell_type": "code",
      "source": [
        "# data 일부를 이용해서 fine tuning\n",
        "train_images_subset = train_images[0:1000] # out ot 60000\n",
        "train_labels_subset = train_labels[0:1000]\n",
        "\n",
        "quant_aware_model.fit(train_images, train_labels, batch_size=500, epochs=10, validation_split=0.1)\n",
        "model.fit(train_images, train_labels, batch_size=500, epochs=10, validation_split=0.1)"
      ],
      "metadata": {
        "colab": {
          "base_uri": "https://localhost:8080/"
        },
        "id": "GbRDaPukEweX",
        "outputId": "2221d2e0-ac53-4035-c32d-cd670e45ca5e"
      },
      "execution_count": null,
      "outputs": [
        {
          "output_type": "stream",
          "name": "stdout",
          "text": [
            "Epoch 1/10\n",
            "108/108 [==============================] - 39s 340ms/step - loss: 0.1554 - accuracy: 0.9449 - val_loss: 0.1440 - val_accuracy: 0.9492\n",
            "Epoch 2/10\n",
            "108/108 [==============================] - 38s 357ms/step - loss: 0.1483 - accuracy: 0.9481 - val_loss: 0.1481 - val_accuracy: 0.9450\n",
            "Epoch 3/10\n",
            "108/108 [==============================] - 38s 351ms/step - loss: 0.1455 - accuracy: 0.9491 - val_loss: 0.1449 - val_accuracy: 0.9475\n",
            "Epoch 4/10\n",
            "108/108 [==============================] - 36s 337ms/step - loss: 0.1433 - accuracy: 0.9492 - val_loss: 0.1485 - val_accuracy: 0.9447\n",
            "Epoch 5/10\n",
            "108/108 [==============================] - 36s 335ms/step - loss: 0.1406 - accuracy: 0.9505 - val_loss: 0.1532 - val_accuracy: 0.9462\n",
            "Epoch 6/10\n",
            "108/108 [==============================] - 37s 338ms/step - loss: 0.1375 - accuracy: 0.9520 - val_loss: 0.1528 - val_accuracy: 0.9463\n",
            "Epoch 7/10\n",
            "108/108 [==============================] - 36s 336ms/step - loss: 0.1374 - accuracy: 0.9521 - val_loss: 0.1522 - val_accuracy: 0.9462\n",
            "Epoch 8/10\n",
            "108/108 [==============================] - 39s 360ms/step - loss: 0.1352 - accuracy: 0.9528 - val_loss: 0.1615 - val_accuracy: 0.9392\n",
            "Epoch 9/10\n",
            "108/108 [==============================] - 40s 370ms/step - loss: 0.1336 - accuracy: 0.9535 - val_loss: 0.1552 - val_accuracy: 0.9417\n",
            "Epoch 10/10\n",
            "108/108 [==============================] - 37s 340ms/step - loss: 0.1307 - accuracy: 0.9542 - val_loss: 0.1553 - val_accuracy: 0.9442\n",
            "Epoch 1/10\n",
            "108/108 [==============================] - 32s 292ms/step - loss: 0.1532 - accuracy: 0.9459 - val_loss: 0.1422 - val_accuracy: 0.9493\n",
            "Epoch 2/10\n",
            "108/108 [==============================] - 30s 281ms/step - loss: 0.1474 - accuracy: 0.9485 - val_loss: 0.1404 - val_accuracy: 0.9495\n",
            "Epoch 3/10\n",
            "108/108 [==============================] - 33s 301ms/step - loss: 0.1449 - accuracy: 0.9496 - val_loss: 0.1411 - val_accuracy: 0.9502\n",
            "Epoch 4/10\n",
            "108/108 [==============================] - 31s 284ms/step - loss: 0.1437 - accuracy: 0.9496 - val_loss: 0.1411 - val_accuracy: 0.9492\n",
            "Epoch 5/10\n",
            "108/108 [==============================] - 30s 279ms/step - loss: 0.1421 - accuracy: 0.9500 - val_loss: 0.1425 - val_accuracy: 0.9480\n",
            "Epoch 6/10\n",
            "108/108 [==============================] - 30s 279ms/step - loss: 0.1412 - accuracy: 0.9512 - val_loss: 0.1428 - val_accuracy: 0.9473\n",
            "Epoch 7/10\n",
            "108/108 [==============================] - 30s 279ms/step - loss: 0.1406 - accuracy: 0.9509 - val_loss: 0.1471 - val_accuracy: 0.9453\n",
            "Epoch 8/10\n",
            "108/108 [==============================] - 30s 279ms/step - loss: 0.1395 - accuracy: 0.9515 - val_loss: 0.1442 - val_accuracy: 0.9452\n",
            "Epoch 9/10\n",
            "108/108 [==============================] - 30s 281ms/step - loss: 0.1383 - accuracy: 0.9521 - val_loss: 0.1454 - val_accuracy: 0.9463\n",
            "Epoch 10/10\n",
            "108/108 [==============================] - 33s 301ms/step - loss: 0.1376 - accuracy: 0.9526 - val_loss: 0.1445 - val_accuracy: 0.9478\n"
          ]
        },
        {
          "output_type": "execute_result",
          "data": {
            "text/plain": [
              "<keras.callbacks.History at 0x7fd167efd2b0>"
            ]
          },
          "metadata": {},
          "execution_count": 30
        }
      ]
    },
    {
      "cell_type": "markdown",
      "source": [
        "아직 quantization을 하지 않았으므로 weight은 실수이다."
      ],
      "metadata": {
        "id": "hh66VPBeGmp1"
      }
    },
    {
      "cell_type": "code",
      "source": [
        "quant_aware_model.layers[2].get_weights()"
      ],
      "metadata": {
        "colab": {
          "base_uri": "https://localhost:8080/"
        },
        "id": "z_9NCw-2GWVb",
        "outputId": "a52cfc65-bacd-44fc-953c-677613ca6354"
      },
      "execution_count": null,
      "outputs": [
        {
          "output_type": "execute_result",
          "data": {
            "text/plain": [
              "[array([[[[ 3.20332319e-01, -4.10334051e-01,  2.16265187e-01,\n",
              "           -3.74895692e-01, -4.31641817e-01, -1.99177772e-01,\n",
              "           -3.91042471e-01,  4.38113570e-01,  3.69700909e-01,\n",
              "            3.63705941e-02,  1.00494556e-01,  5.29972911e-01,\n",
              "           -1.78167149e-01, -2.04178263e-02,  2.17097588e-02,\n",
              "           -1.02739464e-02]],\n",
              " \n",
              "         [[ 1.53704165e-02,  3.04935109e-02, -1.92629382e-01,\n",
              "            2.15839177e-01,  3.99846017e-01,  1.03315469e-02,\n",
              "            1.46673262e-01, -2.19875187e-01,  4.52047348e-01,\n",
              "           -4.75671262e-01,  2.60078646e-02, -3.45883548e-01,\n",
              "            4.23887849e-01,  1.79081619e-01, -1.77454129e-02,\n",
              "           -4.51611251e-01]],\n",
              " \n",
              "         [[-1.04765901e-02,  2.41397440e-01,  1.15572913e-02,\n",
              "            1.03852404e-02,  2.50991806e-02,  3.56819178e-03,\n",
              "            2.75381774e-01, -9.66981724e-02,  4.36247677e-01,\n",
              "            4.97107118e-01, -4.82433215e-02, -2.05285954e+00,\n",
              "           -4.07880902e-01, -7.31886327e-02,  1.94218650e-01,\n",
              "           -7.26611733e-01]]],\n",
              " \n",
              " \n",
              "        [[[ 5.67919970e-01,  1.61874354e-01,  4.67896491e-01,\n",
              "            1.57948099e-02,  2.05358058e-01, -6.98841084e-03,\n",
              "           -3.30321878e-01, -1.10117793e-01, -4.75393012e-02,\n",
              "           -1.73642859e-01,  1.45913824e-01,  2.03022406e-01,\n",
              "            6.88963309e-02, -5.81581414e-01, -5.73466644e-02,\n",
              "           -3.30365561e-02]],\n",
              " \n",
              "         [[-3.99865717e-01,  3.45862538e-01,  1.29488409e-02,\n",
              "            1.66411638e-01,  3.92821789e-01,  2.70754516e-01,\n",
              "            9.98252407e-02, -1.28562236e+00, -2.19241589e-01,\n",
              "           -2.90620238e-01,  2.42048845e-01, -4.16554034e-01,\n",
              "            3.26057792e-01,  4.21461314e-01, -6.51003063e-01,\n",
              "            4.17031109e-01]],\n",
              " \n",
              "         [[-1.23645678e-01, -1.12822026e-01, -4.95277196e-01,\n",
              "            3.92535478e-01, -3.51197481e-01, -6.40816391e-02,\n",
              "            2.03342035e-01, -2.66920543e+00, -7.99624324e-02,\n",
              "            4.16860789e-01,  9.24750790e-02, -1.67584240e+00,\n",
              "           -3.89948189e-01,  1.77602917e-01, -5.81108689e-01,\n",
              "            3.12734872e-01]]],\n",
              " \n",
              " \n",
              "        [[[ 3.08886945e-01,  2.99133629e-01,  3.27563047e-01,\n",
              "            1.28290191e-01, -5.62621979e-04,  4.99735057e-01,\n",
              "           -2.98428804e-01,  1.12876311e-01, -3.20878476e-01,\n",
              "           -1.28815368e-01, -9.41009894e-02, -6.58778176e-02,\n",
              "            5.03582545e-02, -3.82949114e-01,  5.28677881e-01,\n",
              "            1.08969986e-01]],\n",
              " \n",
              "         [[-4.90637928e-01, -2.65878528e-01,  2.61391103e-01,\n",
              "           -3.79763186e-01,  2.32108429e-01,  1.90719441e-01,\n",
              "            3.35121989e-01, -1.03776705e+00, -2.37301722e-01,\n",
              "            9.21950340e-02,  2.06069738e-01,  3.34581107e-01,\n",
              "            2.16359690e-01,  2.00557530e-01,  4.78392929e-01,\n",
              "            1.65331781e-01]],\n",
              " \n",
              "         [[-1.99652854e-02, -1.18816584e-01, -5.89346647e-01,\n",
              "           -1.10501304e-01, -4.63719964e-01, -1.64767727e-01,\n",
              "           -1.37526849e-02, -2.33784294e+00, -3.11879963e-01,\n",
              "            2.36310810e-02,  4.53840494e-02,  1.58399805e-01,\n",
              "           -4.00736555e-02,  1.16307266e-01,  1.10555626e-01,\n",
              "            4.33279946e-02]]]], dtype=float32),\n",
              " array([-0.06262971, -0.02240362, -0.01857162,  0.01064464,  0.00361225,\n",
              "        -0.02458765, -0.00113099,  0.3370007 ,  0.00234229,  0.0061507 ,\n",
              "        -0.00334869,  0.14488277,  0.00481558, -0.02204199,  0.00138938,\n",
              "         0.14196594], dtype=float32),\n",
              " -1,\n",
              " array([-0.56785893, -0.41037723, -0.5893405 , -0.39251658, -0.4636995 ,\n",
              "        -0.499551  , -0.39100173, -2.668592  , -0.45186198, -0.49707085,\n",
              "        -0.24189168, -2.0524588 , -0.42359442, -0.58155507, -0.65126777,\n",
              "        -0.72665495], dtype=float32),\n",
              " array([0.56785893, 0.41037723, 0.5893405 , 0.39251658, 0.4636995 ,\n",
              "        0.499551  , 0.39100173, 2.668592  , 0.45186198, 0.49707085,\n",
              "        0.24189168, 2.0524588 , 0.42359442, 0.58155507, 0.65126777,\n",
              "        0.72665495], dtype=float32),\n",
              " -2.03647,\n",
              " 2.8546512]"
            ]
          },
          "metadata": {},
          "execution_count": 31
        }
      ]
    },
    {
      "cell_type": "markdown",
      "source": [
        "실수 weight이므로 QAT를 한다고 해서 accuracy가 떨어지지 않는다."
      ],
      "metadata": {
        "id": "hM7-8ccgJz9_"
      }
    },
    {
      "cell_type": "code",
      "source": [
        "_, baseline_model_accuracy = model.evaluate(\n",
        "    test_images, test_labels, verbose=0)\n",
        "\n",
        "_, quant_aware_model_accuracy = quant_aware_model.evaluate(\n",
        "    test_images, test_labels, verbose=0)\n",
        "\n",
        "print('Baseline test accuracy:', baseline_model_accuracy)\n",
        "print('QAT test accuracy:', quant_aware_model_accuracy)"
      ],
      "metadata": {
        "colab": {
          "base_uri": "https://localhost:8080/"
        },
        "id": "cq6rvNgnJYKX",
        "outputId": "427d0318-2c66-4600-9f73-a342ec23adb3"
      },
      "execution_count": null,
      "outputs": [
        {
          "output_type": "stream",
          "name": "stdout",
          "text": [
            "Baseline test accuracy: 0.9185000061988831\n",
            "QAT test accuracy: 0.9182999730110168\n"
          ]
        }
      ]
    },
    {
      "cell_type": "markdown",
      "source": [
        "이제 QAT로 학습한 모델을 quantization해보자.</br>\n",
        "post-training quantization과 비슷하게 TFLiteConverter를 이용하면 된다."
      ],
      "metadata": {
        "id": "2FsTiqsYKdCi"
      }
    },
    {
      "cell_type": "code",
      "source": [
        "converter = tf.lite.TFLiteConverter.from_keras_model(quant_aware_model)\n",
        "\n",
        "converter.optimizations = [tf.lite.Optimize.DEFAULT]\n",
        "# Set the input and output tensors to uint8 (APIs added in r2.3)\n",
        "converter.inference_input_type = tf.uint8 # or tf.int8\n",
        "converter.inference_output_type = tf.uint8 # or tf.int8\n",
        "\n",
        "QAT_tflite_model = converter.convert()"
      ],
      "metadata": {
        "colab": {
          "base_uri": "https://localhost:8080/"
        },
        "id": "SR5VTFMPKENJ",
        "outputId": "affd1716-4710-442f-c017-045db90f247e"
      },
      "execution_count": null,
      "outputs": [
        {
          "output_type": "stream",
          "name": "stderr",
          "text": [
            "WARNING:absl:Found untraced functions such as reshape_layer_call_fn, reshape_layer_call_and_return_conditional_losses, conv2d_layer_call_fn, conv2d_layer_call_and_return_conditional_losses, _jit_compiled_convolution_op while saving (showing 5 of 12). These functions will not be directly callable after loading.\n",
            "/usr/local/lib/python3.8/dist-packages/tensorflow/lite/python/convert.py:766: UserWarning: Statistics for quantized inputs were expected, but not specified; continuing anyway.\n",
            "  warnings.warn(\"Statistics for quantized inputs were expected, but not \"\n"
          ]
        }
      ]
    },
    {
      "cell_type": "markdown",
      "source": [
        "quantization을 해도 accuracy가 떨어지지 않는 것을 알 수 있다."
      ],
      "metadata": {
        "id": "122riPXdLOjg"
      }
    },
    {
      "cell_type": "code",
      "source": [
        "QAT_interpreter = tf.lite.Interpreter(model_content=QAT_tflite_model)\n",
        "QAT_interpreter.allocate_tensors()\n",
        "\n",
        "QAT_test_accuracy, output = evaluate_model(QAT_interpreter)\n",
        "\n",
        "print('Baseline teset accuracy: ', baseline_model_accuracy) # 1\n",
        "print('Post-training Quantized test accuracy: ', post_quant_tflite_test_accuracy) # 3\n",
        "print('Quantization-Aware Training test accuracy: ', QAT_test_accuracy) # 2"
      ],
      "metadata": {
        "colab": {
          "base_uri": "https://localhost:8080/"
        },
        "id": "zuUcE9p3K_KL",
        "outputId": "241d5d64-64ed-49ed-f438-0bff0ccaa16f"
      },
      "execution_count": null,
      "outputs": [
        {
          "output_type": "stream",
          "name": "stderr",
          "text": [
            "100%|██████████| 10000/10000 [00:01<00:00, 5134.55it/s]"
          ]
        },
        {
          "output_type": "stream",
          "name": "stdout",
          "text": [
            "\n",
            "Baseline teset accuracy:  0.9185000061988831\n",
            "Post-training Quantized test accuracy:  0.9124\n",
            "Quantization-Aware Training test accuracy:  0.9176\n"
          ]
        },
        {
          "output_type": "stream",
          "name": "stderr",
          "text": [
            "\n"
          ]
        }
      ]
    },
    {
      "cell_type": "markdown",
      "source": [
        "마찬가지로 크기가 1/4로 줄어든 것을 알 수 있다."
      ],
      "metadata": {
        "id": "qplSRQHaLxHK"
      }
    },
    {
      "cell_type": "code",
      "source": [
        "# create temp file\n",
        "_, QAT_tflite_file = tempfile.mkstemp('.tflite')\n",
        "\n",
        "with open(QAT_tflite_file, 'wb') as f:\n",
        "  f.write(QAT_tflite_model)\n",
        "\n",
        "quantized_size = os.path.getsize(QAT_tflite_file) / float(2**20)\n",
        "\n",
        "print(f\"Float tflite model: {tflite_size:.03f} MB\")\n",
        "print(f\"Quantized QAT model: {quantized_size:.03f} MB\")\n",
        "print(f\"Quantized QAT model: {quantized_size/tflite_size:0.2f} x Float model size\",)"
      ],
      "metadata": {
        "colab": {
          "base_uri": "https://localhost:8080/"
        },
        "id": "npHCViDBLr2c",
        "outputId": "3d230b86-d5ce-49b4-e52f-63aa590dbb45"
      },
      "execution_count": null,
      "outputs": [
        {
          "output_type": "stream",
          "name": "stdout",
          "text": [
            "Float tflite model: 0.082 MB\n",
            "Quantized QAT model: 0.026 MB\n",
            "Quantized QAT model: 0.32 x Float model size\n"
          ]
        }
      ]
    },
    {
      "cell_type": "markdown",
      "source": [
        "### **Quantize some layers </br>**\n",
        "Edge TPU 등 특별한 하드웨어가 아닌 경우에는 선택적으로 layer를 quantization할 수도 있다. </br></br>\n",
        "**Tips for better accuracy** </br>\n",
        "- from scratch 보다는 fine tuning\n",
        "- 뒤쪽 layer를 quantization하기\n",
        "- 특별히 중요한 layer는 quantization 피하기 \n",
        "\n",
        "</br>\n",
        "\n",
        "`quantize_annotate_layer` 함수를 이용해서 특정 layer를 quantization할 것이라고 표시한다."
      ],
      "metadata": {
        "id": "wdfYCP0lkUyl"
      }
    },
    {
      "cell_type": "code",
      "source": [
        "model.layers # 전체 layer 확인"
      ],
      "metadata": {
        "colab": {
          "base_uri": "https://localhost:8080/"
        },
        "id": "MSuIfunpmJXm",
        "outputId": "f95b1f63-af80-4ea9-c283-c70ac16ca19a"
      },
      "execution_count": null,
      "outputs": [
        {
          "output_type": "execute_result",
          "data": {
            "text/plain": [
              "[<keras.layers.reshaping.reshape.Reshape at 0x7fd178769580>,\n",
              " <keras.layers.convolutional.conv2d.Conv2D at 0x7fd178769730>,\n",
              " <keras.layers.pooling.max_pooling2d.MaxPooling2D at 0x7fd178769700>,\n",
              " <keras.layers.convolutional.conv2d.Conv2D at 0x7fd1787697f0>,\n",
              " <keras.layers.pooling.max_pooling2d.MaxPooling2D at 0x7fd178769790>,\n",
              " <keras.layers.reshaping.flatten.Flatten at 0x7fd178769e50>,\n",
              " <keras.layers.core.dense.Dense at 0x7fd177f00580>]"
            ]
          },
          "metadata": {},
          "execution_count": 36
        }
      ]
    },
    {
      "cell_type": "code",
      "source": [
        "model.layers[-1].name"
      ],
      "metadata": {
        "colab": {
          "base_uri": "https://localhost:8080/",
          "height": 35
        },
        "id": "SOg5O63okP3P",
        "outputId": "a181ec4f-c9b9-47e0-8e47-1dea5f2715c3"
      },
      "execution_count": null,
      "outputs": [
        {
          "output_type": "execute_result",
          "data": {
            "text/plain": [
              "'dense'"
            ],
            "application/vnd.google.colaboratory.intrinsic+json": {
              "type": "string"
            }
          },
          "metadata": {},
          "execution_count": 37
        }
      ]
    },
    {
      "cell_type": "code",
      "source": [
        "# Helper Function\n",
        "def apply_quantization_to_dense(layer):\n",
        "  # if isinstance(layer, tf.keras.layers.Dense)\n",
        "  if layer.name == 'dense':\n",
        "    return tfmot.quantization.keras.quantize_annotate_layer(layer)\n",
        "  else:\n",
        "    return layer"
      ],
      "metadata": {
        "id": "KLrF3Nh5la1W"
      },
      "execution_count": null,
      "outputs": []
    },
    {
      "cell_type": "markdown",
      "source": [
        "`clone_model` 함수와 helper function을 이용해서 annotated model을 만들고, `quantize_apply` 함수를 이용해서 QAT를 위한 모델을 만들면 된다."
      ],
      "metadata": {
        "id": "OlTkUYk6mHQI"
      }
    },
    {
      "cell_type": "code",
      "source": [
        "annotated_model = tf.keras.models.clone_model(\n",
        "    model,\n",
        "    clone_function=apply_quantization_to_dense,\n",
        ")\n",
        "quant_aware_model = tfmot.quantization.keras.quantize_apply(annotated_model)\n",
        "quant_aware_model.summary()"
      ],
      "metadata": {
        "colab": {
          "base_uri": "https://localhost:8080/"
        },
        "id": "Qo5vE7hCl_cW",
        "outputId": "a684e485-6b7c-455b-fc3d-998fa6811290"
      },
      "execution_count": null,
      "outputs": [
        {
          "output_type": "stream",
          "name": "stdout",
          "text": [
            "Model: \"sequential\"\n",
            "_________________________________________________________________\n",
            " Layer (type)                Output Shape              Param #   \n",
            "=================================================================\n",
            " reshape (Reshape)           (None, 28, 28, 1)         0         \n",
            "                                                                 \n",
            " conv2d (Conv2D)             (None, 28, 28, 16)        160       \n",
            "                                                                 \n",
            " max_pooling2d (MaxPooling2D  (None, 14, 14, 16)       0         \n",
            " )                                                               \n",
            "                                                                 \n",
            " conv2d_1 (Conv2D)           (None, 14, 14, 32)        4640      \n",
            "                                                                 \n",
            " max_pooling2d_1 (MaxPooling  (None, 7, 7, 32)         0         \n",
            " 2D)                                                             \n",
            "                                                                 \n",
            " quant_flatten (QuantizeWrap  (None, 1568)             1         \n",
            " perV2)                                                          \n",
            "                                                                 \n",
            " quant_dense (QuantizeWrappe  (None, 10)               15695     \n",
            " rV2)                                                            \n",
            "                                                                 \n",
            "=================================================================\n",
            "Total params: 20,496\n",
            "Trainable params: 20,490\n",
            "Non-trainable params: 6\n",
            "_________________________________________________________________\n"
          ]
        }
      ]
    },
    {
      "cell_type": "markdown",
      "source": [
        "만약 fine tuning이 아니라 처음부터 모델을 만드는 것이면 다음과 같이 모델을 만들면 된다.\n",
        "<br/><br/>\n",
        "\n",
        "**Sequential example**"
      ],
      "metadata": {
        "id": "FcxAiIyUmv26"
      }
    },
    {
      "cell_type": "code",
      "source": [
        "annotated_model = tf.keras.Sequential([\n",
        "    tf.keras.layers.InputLayer(input_shape=(28, 28)),\n",
        "    tf.keras.layers.Reshape(target_shape=(28, 28, 1)),\n",
        "    tf.keras.layers.Conv2D(filters=12, kernel_size=(3, 3), activation='relu'),\n",
        "    tf.keras.layers.MaxPooling2D(pool_size=(2, 2)),\n",
        "    tf.keras.layers.Flatten(),\n",
        "    tfmot.quantization.keras.quantize_annotate_layer(tf.keras.layers.Dense(10))    \n",
        "])\n",
        "quant_aware_model = tfmot.quantization.keras.quantize_apply(annotated_model)\n",
        "\n",
        "quant_aware_model.summary()"
      ],
      "metadata": {
        "colab": {
          "base_uri": "https://localhost:8080/"
        },
        "id": "gY5aINHjmmaC",
        "outputId": "6cf5f112-a7e3-443f-aa0c-6739d22c2122"
      },
      "execution_count": null,
      "outputs": [
        {
          "output_type": "stream",
          "name": "stdout",
          "text": [
            "Model: \"sequential_1\"\n",
            "_________________________________________________________________\n",
            " Layer (type)                Output Shape              Param #   \n",
            "=================================================================\n",
            " reshape_1 (Reshape)         (None, 28, 28, 1)         0         \n",
            "                                                                 \n",
            " conv2d_2 (Conv2D)           (None, 26, 26, 12)        120       \n",
            "                                                                 \n",
            " max_pooling2d_2 (MaxPooling  (None, 13, 13, 12)       0         \n",
            " 2D)                                                             \n",
            "                                                                 \n",
            " quant_flatten_1 (QuantizeWr  (None, 2028)             1         \n",
            " apperV2)                                                        \n",
            "                                                                 \n",
            " quant_dense_1 (QuantizeWrap  (None, 10)               20295     \n",
            " perV2)                                                          \n",
            "                                                                 \n",
            "=================================================================\n",
            "Total params: 20,416\n",
            "Trainable params: 20,410\n",
            "Non-trainable params: 6\n",
            "_________________________________________________________________\n"
          ]
        }
      ]
    },
    {
      "cell_type": "markdown",
      "source": [
        "**Functional example**"
      ],
      "metadata": {
        "id": "u0AfMurcng_7"
      }
    },
    {
      "cell_type": "code",
      "source": [
        "inputs = tf.keras.Input(shape=(28, 28))\n",
        "x = tf.keras.layers.Reshape(target_shape=(28, 28, 1))(inputs)\n",
        "x = tfmot.quantization.keras.quantize_annotate_layer(tf.keras.layers.Conv2D(filters=12, kernel_size=(3, 3), activation='relu'))(x)\n",
        "x = tf.keras.layers.MaxPooling2D(pool_size=(2, 2))(x)\n",
        "x = tf.keras.layers.Flatten()(x)\n",
        "outputs = tf.keras.layers.Dense(10)(x)\n",
        "\n",
        "annotated_model = tf.keras.Model(inputs=inputs, outputs=outputs)\n",
        "quant_aware_model = tfmot.quantization.keras.quantize_apply(annotated_model)\n",
        "quant_aware_model.summary()"
      ],
      "metadata": {
        "colab": {
          "base_uri": "https://localhost:8080/"
        },
        "id": "bJ0kp3kpndBQ",
        "outputId": "dbefe162-c1b3-4e2b-cb13-9e9725a125b4"
      },
      "execution_count": null,
      "outputs": [
        {
          "output_type": "stream",
          "name": "stdout",
          "text": [
            "Model: \"model\"\n",
            "_________________________________________________________________\n",
            " Layer (type)                Output Shape              Param #   \n",
            "=================================================================\n",
            " input_4 (InputLayer)        [(None, 28, 28)]          0         \n",
            "                                                                 \n",
            " quant_reshape_2 (QuantizeWr  (None, 28, 28, 1)        1         \n",
            " apperV2)                                                        \n",
            "                                                                 \n",
            " quant_conv2d_3 (QuantizeWra  (None, 26, 26, 12)       147       \n",
            " pperV2)                                                         \n",
            "                                                                 \n",
            " max_pooling2d_3 (MaxPooling  (None, 13, 13, 12)       0         \n",
            " 2D)                                                             \n",
            "                                                                 \n",
            " flatten_2 (Flatten)         (None, 2028)              0         \n",
            "                                                                 \n",
            " dense_2 (Dense)             (None, 10)                20290     \n",
            "                                                                 \n",
            "=================================================================\n",
            "Total params: 20,438\n",
            "Trainable params: 20,410\n",
            "Non-trainable params: 28\n",
            "_________________________________________________________________\n"
          ]
        }
      ]
    },
    {
      "cell_type": "markdown",
      "source": [
        "## **Pruning** <br/>\n",
        "pruning은 불필요한(0에 가까운) weight을 0으로 만들어 없애면서 optimize를 한다. <br/>\n",
        "\n",
        "`tfmot.sparsity.keras.prune_low_magnitude`을 이용해서 모델을 만든다. 이 때, pruning 방식인 <br/>\n",
        "`tfmot.sparsity.keras.PolynomialDecay` 을 parameter로 넘겨준다. 다음과 같은 hyperparameter가 있다.\n",
        "- `initial_sparsity` : pruning을 시작할 때의 sparsity를 몇으로 할 지\n",
        "- `final_sparsity` : pruning을 끝낼 때의 sparsity를 몇으로 할 지\n",
        "- `begin_step` : pruning을 언제부터 진행할 지 (batch 단위의 step)\n",
        "- `end_step` : pruning을 언제 끝낼 지\n",
        "\n",
        "<br/>\n",
        "pruning을 하기 전에 baseline model을 저장하겠다. (크기 비교시 사용)"
      ],
      "metadata": {
        "id": "WUAZA4XtpEXO"
      }
    },
    {
      "cell_type": "code",
      "source": [
        "_, baseline_model_accuracy = model.evaluate(test_images, test_labels, verbose=0)\n",
        "\n",
        "print('Baseline test accuracy: ', baseline_model_accuracy)\n",
        "\n",
        "_, keras_file = tempfile.mkstemp('.h5')\n",
        "tf.keras.models.save_model(model, keras_file, include_optimizer=False)\n",
        "print('Saved baseline model to: ', keras_file)"
      ],
      "metadata": {
        "colab": {
          "base_uri": "https://localhost:8080/"
        },
        "id": "VSSZQfpdoWCO",
        "outputId": "e21cd6d7-a447-4ed4-f87e-562db8f16e36"
      },
      "execution_count": null,
      "outputs": [
        {
          "output_type": "stream",
          "name": "stdout",
          "text": [
            "Baseline test accuracy:  0.9185000061988831\n",
            "Saved baseline model to:  /tmp/tmpq_lhjvs8.h5\n"
          ]
        }
      ]
    },
    {
      "cell_type": "code",
      "source": [
        "from tensorflow_model_optimization.python.core.sparsity.keras.prune import prune_low_magnitude\n",
        "# Compute end step to finish pruning after 2 epochs.\n",
        "batch_size = 128\n",
        "epochs = 2\n",
        "validation_split = 0.1 # 10% of training set will be used for validation set.\n",
        "\n",
        "num_images = train_images.shape[0] * (1 - validation_split)\n",
        "end_step = np.ceil(num_images / batch_size).astype(np.int32) * epochs\n",
        "\n",
        "# Define model for pruning.\n",
        "pruning_params = {\n",
        "    'pruning_schedule' : tfmot.sparsity.keras.PolynomialDecay(initial_sparsity=0.50,\n",
        "                                                              final_sparsity=0.80,\n",
        "                                                              begin_step=0,\n",
        "                                                              end_step=end_step)\n",
        "}\n",
        "\n",
        "prune_low_magnitude = tfmot.sparsity.keras.prune_low_magnitude\n",
        "model_for_pruning = prune_low_magnitude(model, **pruning_params) # model 전체 pruning 적용 진행\n",
        "\n",
        "# 'prune_low_magnitude' requires a recompile.\n",
        "model_for_pruning.compile(optimizer='adam',\n",
        "                          loss=tf.keras.losses.SparseCategoricalCrossentropy(from_logits=True),\n",
        "                          metrics=['accuracy'])\n",
        "\n",
        "model_for_pruning.summary()"
      ],
      "metadata": {
        "colab": {
          "base_uri": "https://localhost:8080/"
        },
        "id": "wu6NcpIV-LXn",
        "outputId": "4d52487b-8575-4c18-df65-53ef90e36466"
      },
      "execution_count": null,
      "outputs": [
        {
          "output_type": "stream",
          "name": "stdout",
          "text": [
            "Model: \"sequential\"\n",
            "_________________________________________________________________\n",
            " Layer (type)                Output Shape              Param #   \n",
            "=================================================================\n",
            " prune_low_magnitude_reshape  (None, 28, 28, 1)        1         \n",
            "  (PruneLowMagnitude)                                            \n",
            "                                                                 \n",
            " prune_low_magnitude_conv2d   (None, 28, 28, 16)       306       \n",
            " (PruneLowMagnitude)                                             \n",
            "                                                                 \n",
            " prune_low_magnitude_max_poo  (None, 14, 14, 16)       1         \n",
            " ling2d (PruneLowMagnitude)                                      \n",
            "                                                                 \n",
            " prune_low_magnitude_conv2d_  (None, 14, 14, 32)       9250      \n",
            " 1 (PruneLowMagnitude)                                           \n",
            "                                                                 \n",
            " prune_low_magnitude_max_poo  (None, 7, 7, 32)         1         \n",
            " ling2d_1 (PruneLowMagnitude                                     \n",
            " )                                                               \n",
            "                                                                 \n",
            " prune_low_magnitude_flatten  (None, 1568)             1         \n",
            "  (PruneLowMagnitude)                                            \n",
            "                                                                 \n",
            " prune_low_magnitude_dense (  (None, 10)               31372     \n",
            " PruneLowMagnitude)                                              \n",
            "                                                                 \n",
            "=================================================================\n",
            "Total params: 40,932\n",
            "Trainable params: 20,490\n",
            "Non-trainable params: 20,442\n",
            "_________________________________________________________________\n"
          ]
        }
      ]
    },
    {
      "cell_type": "markdown",
      "source": [
        "fit을 할 때, `tfmot.sparsity.keras.UpdatePruningStep`을 callback으로 불러야 한다."
      ],
      "metadata": {
        "id": "7XQArQ3mMYft"
      }
    },
    {
      "cell_type": "code",
      "source": [
        "logdir = tempfile.mkdtemp()\n",
        "\n",
        "callbacks = [\n",
        "    tfmot.sparsity.keras.UpdatePruningStep(),\n",
        "    tfmot.sparsity.keras.PruningSummaries(log_dir=logdir),\n",
        "]\n",
        "\n",
        "model_for_pruning.fit(train_images, train_labels,\n",
        "                      batch_size=batch_size, epochs=epochs, validation_split=validation_split,\n",
        "                      callbacks=callbacks)"
      ],
      "metadata": {
        "colab": {
          "base_uri": "https://localhost:8080/"
        },
        "id": "crfYHsLJLYD_",
        "outputId": "14d483b6-32e9-4e60-e47f-c9140ee5f5d3"
      },
      "execution_count": null,
      "outputs": [
        {
          "output_type": "stream",
          "name": "stdout",
          "text": [
            "Epoch 1/2\n"
          ]
        },
        {
          "output_type": "stream",
          "name": "stderr",
          "text": [
            "/usr/local/lib/python3.8/dist-packages/tensorflow/python/util/dispatch.py:1082: UserWarning: \"`sparse_categorical_crossentropy` received `from_logits=True`, but the `output` argument was produced by a sigmoid or softmax activation and thus does not represent logits. Was this intended?\"\n",
            "  return dispatch_target(*args, **kwargs)\n"
          ]
        },
        {
          "output_type": "stream",
          "name": "stdout",
          "text": [
            "422/422 [==============================] - 42s 89ms/step - loss: 0.2492 - accuracy: 0.9096 - val_loss: 0.2809 - val_accuracy: 0.8958\n",
            "Epoch 2/2\n",
            "422/422 [==============================] - 34s 81ms/step - loss: 0.2705 - accuracy: 0.9033 - val_loss: 0.2605 - val_accuracy: 0.9018\n"
          ]
        },
        {
          "output_type": "execute_result",
          "data": {
            "text/plain": [
              "<keras.callbacks.History at 0x7fd172228c10>"
            ]
          },
          "metadata": {},
          "execution_count": 52
        }
      ]
    },
    {
      "cell_type": "markdown",
      "source": [
        "baseline 모델과 accuracy를 비교해 보자."
      ],
      "metadata": {
        "id": "teot3rexPDjg"
      }
    },
    {
      "cell_type": "code",
      "source": [
        "_, model_for_pruning_accuracy = model_for_pruning.evaluate(\n",
        "    test_images, test_labels, verbose = 0)\n",
        "\n",
        "print('Baseline test accuracy : ', baseline_model_accuracy)\n",
        "print('Pruned test accuracy : ', model_for_pruning_accuracy)"
      ],
      "metadata": {
        "colab": {
          "base_uri": "https://localhost:8080/"
        },
        "id": "78hnAelMNYUY",
        "outputId": "58f41cf9-45d1-4121-8057-68f90ac117ec"
      },
      "execution_count": null,
      "outputs": [
        {
          "output_type": "stream",
          "name": "stdout",
          "text": [
            "Baseline test accuracy :  0.9185000061988831\n",
            "Pruned test accuracy :  0.8945000171661377\n"
          ]
        }
      ]
    },
    {
      "cell_type": "markdown",
      "source": [
        "pruned model의 크기가 줄어들었는 지 확인해 보자. <br/>\n",
        "\n",
        "위에 summary를 보면 pruning을 하기 위해 non-trainable parameter가 생긴 것을 알 수 있다. <br/>\n",
        "`tfmot.sparsity.keras.strip_pruning`을 이용해서 pruning에 사용한 variable을 제거해 준다."
      ],
      "metadata": {
        "id": "5UEVishaPVD6"
      }
    },
    {
      "cell_type": "code",
      "source": [
        "model_for_export = tfmot.sparsity.keras.strip_pruning(model_for_pruning)\n",
        "\n",
        "_, pruned_keras_file = tempfile.mkstemp('.h5')\n",
        "tf.keras.models.save_model(model_for_export, pruned_keras_file, include_optimizer=False)\n",
        "print('Saved pruned Keras model to: ', pruned_keras_file)"
      ],
      "metadata": {
        "colab": {
          "base_uri": "https://localhost:8080/"
        },
        "id": "oO0reo9TPUYs",
        "outputId": "69756936-561c-4379-8497-3535ddf13fd2"
      },
      "execution_count": null,
      "outputs": [
        {
          "output_type": "stream",
          "name": "stderr",
          "text": [
            "WARNING:tensorflow:Compiled the loaded model, but the compiled metrics have yet to be built. `model.compile_metrics` will be empty until you train or evaluate the model.\n"
          ]
        },
        {
          "output_type": "stream",
          "name": "stdout",
          "text": [
            "Saved pruned Keras model to:  /tmp/tmpakp2pe4m.h5\n"
          ]
        }
      ]
    },
    {
      "cell_type": "markdown",
      "source": [
        "tflite으로 저장"
      ],
      "metadata": {
        "id": "pOHwH6hsQCHj"
      }
    },
    {
      "cell_type": "markdown",
      "source": [],
      "metadata": {
        "id": "fTmHlTp6T74b"
      }
    },
    {
      "cell_type": "code",
      "source": [
        "converter = tf.lite.TFLiteConverter.from_keras_model(model_for_export)\n",
        "pruned_tflite_model = converter.convert()\n",
        "\n",
        "_, pruned_tflite_file = tempfile.mkstemp('.tflie')\n",
        "\n",
        "with open(pruned_tflite_file, 'wb') as f:\n",
        "  f.write(pruned_tflite_model)\n",
        "\n",
        "print('Saved pruned TFLite model to: ', pruned_tflite_file)"
      ],
      "metadata": {
        "colab": {
          "base_uri": "https://localhost:8080/"
        },
        "id": "H-9jurHMQA06",
        "outputId": "f397bcdd-efad-49fb-9f61-50541003f634"
      },
      "execution_count": null,
      "outputs": [
        {
          "output_type": "stream",
          "name": "stderr",
          "text": [
            "WARNING:absl:Found untraced functions such as _jit_compiled_convolution_op, _jit_compiled_convolution_op while saving (showing 2 of 2). These functions will not be directly callable after loading.\n"
          ]
        },
        {
          "output_type": "stream",
          "name": "stdout",
          "text": [
            "Saved pruned TFLite model to:  /tmp/tmpgu5fwq4f.tflie\n"
          ]
        }
      ]
    },
    {
      "cell_type": "markdown",
      "source": [
        "pruning을 해도 weight matrix의 크기는 그대로이다. 하지만 matrix의 값이 대부분 0이기 때문에 감소된 크기를 확인하려면 실제로 zip 파일 등으로 압축하는 과정을 거쳐야 한다."
      ],
      "metadata": {
        "id": "xTgXeXvaQZ8E"
      }
    },
    {
      "cell_type": "code",
      "source": [
        "def get_gzipped_model_size(file):\n",
        "  # Returns size of gzipped model, in bites.\n",
        "  _, zipped_file = tempfile.mkstemp('.zip')\n",
        "  with zipfile.ZipFile(zipped_file, 'w', compression=zipfile.ZIP_DEFLATED) as f:\n",
        "    f.write(file)\n",
        "  return os.path.getsize(zipped_file)"
      ],
      "metadata": {
        "id": "DXoJ4H1DTnOc"
      },
      "execution_count": null,
      "outputs": []
    },
    {
      "cell_type": "code",
      "source": [
        "print(\"Size of gzipped baseline Keras model: %.2f bytes\" % (get_gzipped_model_size(keras_file)))\n",
        "print(\"Size of gzipped pruned Keras model: %.2f bytes\" % (get_gzipped_model_size(pruned_keras_file)))\n",
        "print(\"Size of gzipped pruned TFlite model: %.2f bytes\" % (get_gzipped_model_size(pruned_tflite_file)))"
      ],
      "metadata": {
        "colab": {
          "base_uri": "https://localhost:8080/"
        },
        "id": "XPFqFXVtQ0l1",
        "outputId": "d415b2cd-5737-4cbc-9da3-dd284cddfbc9"
      },
      "execution_count": null,
      "outputs": [
        {
          "output_type": "stream",
          "name": "stdout",
          "text": [
            "Size of gzipped baseline Keras model: 78982.00 bytes\n",
            "Size of gzipped pruned Keras model: 26795.00 bytes\n",
            "Size of gzipped pruned TFlite model: 25489.00 bytes\n"
          ]
        }
      ]
    },
    {
      "cell_type": "markdown",
      "source": [
        "## **Combine pruning and quantization**\n",
        "\n",
        "pruning을 한 다음에 post-training quantization까지 하면 크기를 더 줄일 수 있다.\n",
        "\n"
      ],
      "metadata": {
        "id": "nN-QOVBRUHvT"
      }
    },
    {
      "cell_type": "code",
      "source": [
        "from tensorflow.python.util.nest import yield_flat_paths\n",
        "def representative_data_gen():\n",
        "  for input_value in tf.data.Dataset.from_tensor_slices(train_images).batch(1).take(100):\n",
        "    yield [input_value]\n",
        "\n",
        "converter = tf.lite.TFLiteConverter.from_keras_model(model_for_export)\n",
        "\n",
        "converter.optimizations = [tf.lite.Optimize.DEFAULT]\n",
        "converter.representative_dataset = representative_data_gen\n",
        "# Ensure that if any ops can't be quantized, the converter throws an error\n",
        "converter.target_spec.supported_ops = [tf.lite.OpsSet.TFLITE_BUILTINS_INT8]\n",
        "# Set the input and output tensors to uint8 (APIs added in r2.3)\n",
        "converter.inference_input_type = tf.uint8\n",
        "converter.inference_output_type = tf.uint8\n",
        "\n",
        "quantized_and_pruned_tflite_model = converter.convert()\n",
        "\n",
        "_, quantized_and_pruned_tflite_file = tempfile.mkstemp('.tflite')\n",
        "\n",
        "with open(quantized_and_pruned_tflite_file, 'wb') as f:\n",
        "  f.write(quantized_and_pruned_tflite_model)\n",
        "\n",
        "print('Saved quantized and pruned TFLite model to: ', quantized_and_pruned_tflite_file)\n",
        "\n",
        "print('Size of gzipped baseline Keras model: %.2f bytes' % (get_gzipped_model_size(keras_file)))\n",
        "print('Size of gzipped pruned and quantized TFlite model: %.2f bytes' % (get_gzipped_model_size(quantized_and_pruned_tflite_file)))\n",
        "print(f\"Size of optimized model is {get_gzipped_model_size(quantized_and_pruned_tflite_file)/get_gzipped_model_size(keras_file)} of the baseline model\") # 12%"
      ],
      "metadata": {
        "colab": {
          "base_uri": "https://localhost:8080/"
        },
        "id": "jq5nvpOmUkgb",
        "outputId": "98abff7e-a44d-44f8-8879-a3695e82c839"
      },
      "execution_count": null,
      "outputs": [
        {
          "output_type": "stream",
          "name": "stderr",
          "text": [
            "WARNING:absl:Found untraced functions such as _jit_compiled_convolution_op, _jit_compiled_convolution_op while saving (showing 2 of 2). These functions will not be directly callable after loading.\n",
            "/usr/local/lib/python3.8/dist-packages/tensorflow/lite/python/convert.py:766: UserWarning: Statistics for quantized inputs were expected, but not specified; continuing anyway.\n",
            "  warnings.warn(\"Statistics for quantized inputs were expected, but not \"\n"
          ]
        },
        {
          "output_type": "stream",
          "name": "stdout",
          "text": [
            "Saved quantized and pruned TFLite model to:  /tmp/tmpr56qehal.tflite\n",
            "Size of gzipped baseline Keras model: 78982.00 bytes\n",
            "Size of gzipped pruned and quantized TFlite model: 9720.00 bytes\n",
            "Size of optimized model is 0.12306601504140184 of the baseline model\n"
          ]
        }
      ]
    },
    {
      "cell_type": "markdown",
      "source": [
        "baseline과 accuracy를 비교해 보자"
      ],
      "metadata": {
        "id": "hNWmJeHlYLAZ"
      }
    },
    {
      "cell_type": "code",
      "source": [
        "interpreter = tf.lite.Interpreter(model_content=quantized_and_pruned_tflite_model)\n",
        "interpreter.allocate_tensors()\n",
        "\n",
        "test_accuracy, _ = evaluate_model(interpreter)\n",
        "\n",
        "print('Baseline test accuracy: ', baseline_model_accuracy)\n",
        "print('Pruned and quantized TFLite test_accuracy: ', test_accuracy) # 모델 크기는 기존 모델의 12%밖에 안되는데, 성능은 많이 안떨어짐을 확인함."
      ],
      "metadata": {
        "colab": {
          "base_uri": "https://localhost:8080/"
        },
        "id": "x2kbCembXT7x",
        "outputId": "4492d8b9-b1b6-4633-a3b7-4b926dc7e0dd"
      },
      "execution_count": null,
      "outputs": [
        {
          "output_type": "stream",
          "name": "stderr",
          "text": [
            "100%|██████████| 10000/10000 [00:02<00:00, 3496.35it/s]"
          ]
        },
        {
          "output_type": "stream",
          "name": "stdout",
          "text": [
            "\n",
            "Baseline test accuracy:  0.9185000061988831\n",
            "Pruned and quantized TFLite test_accuracy:  0.894\n"
          ]
        },
        {
          "output_type": "stream",
          "name": "stderr",
          "text": [
            "\n"
          ]
        }
      ]
    },
    {
      "cell_type": "markdown",
      "source": [
        "QAT와 비슷하게, pruning도 layer를 선택적으로 pruning할 수 있다."
      ],
      "metadata": {
        "id": "L9-XbtKfYlNK"
      }
    }
  ]
}